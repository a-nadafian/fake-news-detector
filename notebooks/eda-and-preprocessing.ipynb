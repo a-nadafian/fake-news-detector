{
 "cells": [
  {
   "metadata": {
    "ExecuteTime": {
     "end_time": "2025-08-06T12:55:21.947084Z",
     "start_time": "2025-08-06T12:55:21.942833Z"
    }
   },
   "cell_type": "code",
   "source": [
    "import pandas as pd\n",
    "import seaborn as sns\n",
    "import matplotlib.pyplot as plt\n",
    "import os\n",
    "\n",
    "# Set a consistent style for the plots\n",
    "sns.set_style(\"whitegrid\")"
   ],
   "id": "56722fe9605e726f",
   "outputs": [],
   "execution_count": 4
  },
  {
   "metadata": {
    "ExecuteTime": {
     "end_time": "2025-08-06T12:56:49.671830Z",
     "start_time": "2025-08-06T12:56:48.120492Z"
    }
   },
   "cell_type": "code",
   "source": [
    "# Define the path to the raw data directory\n",
    "raw_data_path = os.path.join('..', 'data', 'raw')\n",
    "\n",
    "# Construct the full path for each file\n",
    "true_file_path = os.path.join(raw_data_path, 'WELFake_Dataset.csv')\n",
    "\n",
    "# Load the datasets using the constructed paths\n",
    "df = pd.read_csv(true_file_path)"
   ],
   "id": "a00613a8e9d88b2e",
   "outputs": [],
   "execution_count": 8
  },
  {
   "metadata": {
    "ExecuteTime": {
     "end_time": "2025-08-06T12:56:56.220133Z",
     "start_time": "2025-08-06T12:56:56.207658Z"
    }
   },
   "cell_type": "code",
   "source": "df.head()",
   "id": "fe6f95eccfac9e0f",
   "outputs": [
    {
     "data": {
      "text/plain": [
       "   Unnamed: 0                                              title  \\\n",
       "0           0  LAW ENFORCEMENT ON HIGH ALERT Following Threat...   \n",
       "1           1                                                NaN   \n",
       "2           2  UNBELIEVABLE! OBAMA’S ATTORNEY GENERAL SAYS MO...   \n",
       "3           3  Bobby Jindal, raised Hindu, uses story of Chri...   \n",
       "4           4  SATAN 2: Russia unvelis an image of its terrif...   \n",
       "\n",
       "                                                text  label  \n",
       "0  No comment is expected from Barack Obama Membe...      1  \n",
       "1     Did they post their votes for Hillary already?      1  \n",
       "2   Now, most of the demonstrators gathered last ...      1  \n",
       "3  A dozen politically active pastors came here f...      0  \n",
       "4  The RS-28 Sarmat missile, dubbed Satan 2, will...      1  "
      ],
      "text/html": [
       "<div>\n",
       "<style scoped>\n",
       "    .dataframe tbody tr th:only-of-type {\n",
       "        vertical-align: middle;\n",
       "    }\n",
       "\n",
       "    .dataframe tbody tr th {\n",
       "        vertical-align: top;\n",
       "    }\n",
       "\n",
       "    .dataframe thead th {\n",
       "        text-align: right;\n",
       "    }\n",
       "</style>\n",
       "<table border=\"1\" class=\"dataframe\">\n",
       "  <thead>\n",
       "    <tr style=\"text-align: right;\">\n",
       "      <th></th>\n",
       "      <th>Unnamed: 0</th>\n",
       "      <th>title</th>\n",
       "      <th>text</th>\n",
       "      <th>label</th>\n",
       "    </tr>\n",
       "  </thead>\n",
       "  <tbody>\n",
       "    <tr>\n",
       "      <th>0</th>\n",
       "      <td>0</td>\n",
       "      <td>LAW ENFORCEMENT ON HIGH ALERT Following Threat...</td>\n",
       "      <td>No comment is expected from Barack Obama Membe...</td>\n",
       "      <td>1</td>\n",
       "    </tr>\n",
       "    <tr>\n",
       "      <th>1</th>\n",
       "      <td>1</td>\n",
       "      <td>NaN</td>\n",
       "      <td>Did they post their votes for Hillary already?</td>\n",
       "      <td>1</td>\n",
       "    </tr>\n",
       "    <tr>\n",
       "      <th>2</th>\n",
       "      <td>2</td>\n",
       "      <td>UNBELIEVABLE! OBAMA’S ATTORNEY GENERAL SAYS MO...</td>\n",
       "      <td>Now, most of the demonstrators gathered last ...</td>\n",
       "      <td>1</td>\n",
       "    </tr>\n",
       "    <tr>\n",
       "      <th>3</th>\n",
       "      <td>3</td>\n",
       "      <td>Bobby Jindal, raised Hindu, uses story of Chri...</td>\n",
       "      <td>A dozen politically active pastors came here f...</td>\n",
       "      <td>0</td>\n",
       "    </tr>\n",
       "    <tr>\n",
       "      <th>4</th>\n",
       "      <td>4</td>\n",
       "      <td>SATAN 2: Russia unvelis an image of its terrif...</td>\n",
       "      <td>The RS-28 Sarmat missile, dubbed Satan 2, will...</td>\n",
       "      <td>1</td>\n",
       "    </tr>\n",
       "  </tbody>\n",
       "</table>\n",
       "</div>"
      ]
     },
     "execution_count": 9,
     "metadata": {},
     "output_type": "execute_result"
    }
   ],
   "execution_count": 9
  },
  {
   "metadata": {
    "ExecuteTime": {
     "end_time": "2025-08-06T12:57:31.693104Z",
     "start_time": "2025-08-06T12:57:31.657659Z"
    }
   },
   "cell_type": "code",
   "source": [
    "# Display a concise summary of the DataFrame\n",
    "print(\"DataFrame Information:\")\n",
    "df.info()"
   ],
   "id": "462b9738e0645e01",
   "outputs": [
    {
     "name": "stdout",
     "output_type": "stream",
     "text": [
      "DataFrame Information:\n",
      "<class 'pandas.core.frame.DataFrame'>\n",
      "RangeIndex: 72134 entries, 0 to 72133\n",
      "Data columns (total 4 columns):\n",
      " #   Column      Non-Null Count  Dtype \n",
      "---  ------      --------------  ----- \n",
      " 0   Unnamed: 0  72134 non-null  int64 \n",
      " 1   title       71576 non-null  object\n",
      " 2   text        72095 non-null  object\n",
      " 3   label       72134 non-null  int64 \n",
      "dtypes: int64(2), object(2)\n",
      "memory usage: 2.2+ MB\n"
     ]
    }
   ],
   "execution_count": 10
  },
  {
   "metadata": {
    "ExecuteTime": {
     "end_time": "2025-08-06T12:57:41.071546Z",
     "start_time": "2025-08-06T12:57:41.052857Z"
    }
   },
   "cell_type": "code",
   "source": [
    "# Check for missing values\n",
    "print(\"\\nMissing Values Count:\")\n",
    "print(df.isnull().sum())"
   ],
   "id": "3510a33b4a28f908",
   "outputs": [
    {
     "name": "stdout",
     "output_type": "stream",
     "text": [
      "\n",
      "Missing Values Count:\n",
      "Unnamed: 0      0\n",
      "title         558\n",
      "text           39\n",
      "label           0\n",
      "dtype: int64\n"
     ]
    }
   ],
   "execution_count": 11
  },
  {
   "metadata": {
    "ExecuteTime": {
     "end_time": "2025-08-06T12:57:56.557937Z",
     "start_time": "2025-08-06T12:57:56.405342Z"
    }
   },
   "cell_type": "code",
   "source": [
    "# Get the counts for each class\n",
    "print(df['label'].value_counts())\n",
    "\n",
    "# Visualize the class distribution\n",
    "plt.figure(figsize=(8, 6))\n",
    "\n",
    "# CORRECTED LINE: Assign 'label' to hue and set legend=False\n",
    "sns.countplot(x='label', data=df, hue='label', palette=['#d32f2f', '#43a047'], legend=False)\n",
    "\n",
    "plt.title('Class Distribution: Fake vs. Real News', fontsize=16)\n",
    "plt.xlabel('Class', fontsize=12)\n",
    "plt.ylabel('Number of Articles', fontsize=12)\n",
    "plt.xticks(ticks=[0, 1], labels=['Real (0)', 'Fake (1)'])\n",
    "plt.show()"
   ],
   "id": "59a0e17ca5a0178d",
   "outputs": [
    {
     "name": "stdout",
     "output_type": "stream",
     "text": [
      "label\n",
      "1    37106\n",
      "0    35028\n",
      "Name: count, dtype: int64\n"
     ]
    },
    {
     "data": {
      "text/plain": [
       "<Figure size 800x600 with 1 Axes>"
      ],
      "image/png": "[encoded data removed]"
     },
     "metadata": {},
     "output_type": "display_data"
    }
   ],
   "execution_count": 12
  }
 ],
 "metadata": {},
 "nbformat": 4,
 "nbformat_minor": 5
}
